{
 "cells": [
  {
   "cell_type": "code",
   "execution_count": 27,
   "metadata": {
    "collapsed": false
   },
   "outputs": [],
   "source": [
    "import tensorflow as tf\n",
    "import numpy as np\n",
    "import urllib.request as ur"
   ]
  },
  {
   "cell_type": "code",
   "execution_count": 28,
   "metadata": {
    "collapsed": false
   },
   "outputs": [],
   "source": [
    "txt = ur.urlopen(\"http://goo.gl/vhm1eU\")\n",
    "# a=txt.split(\"\\n\")\n",
    "# data_source = np.array(a)\n",
    "raw_data = np.loadtxt(txt, delimiter=',',  unpack=False, dtype='float32')\n",
    "\n",
    "      \n",
    "#load_data"
   ]
  },
  {
   "cell_type": "code",
   "execution_count": 29,
   "metadata": {
    "collapsed": false
   },
   "outputs": [],
   "source": [
    "# set s_data, y_data\n",
    "x_data = raw_data[:,:8]\n",
    "y_data = raw_data[:,8]\n"
   ]
  },
  {
   "cell_type": "code",
   "execution_count": 30,
   "metadata": {
    "collapsed": false
   },
   "outputs": [],
   "source": [
    "# normalize x_data\n",
    "from sklearn.preprocessing import normalize\n",
    "x_data = normalize(x_data,axis = 0).T\n"
   ]
  },
  {
   "cell_type": "code",
   "execution_count": 31,
   "metadata": {
    "collapsed": false
   },
   "outputs": [],
   "source": [
    "x_data = np.insert(x_data, 0 , 1, axis=1)\n",
    "# print(x_data)\n",
    "# print(y_data)\n",
    "y_data = y_data.reshape(y_data.shape[0], 1)\n",
    "# print(y_data)"
   ]
  },
  {
   "cell_type": "code",
   "execution_count": 32,
   "metadata": {
    "collapsed": true
   },
   "outputs": [],
   "source": [
    "W = tf.Variable(tf.random_uniform([1,len(x_data)],-1.0,1.0))\n",
    "h= tf.matmul(W,x_data)\n",
    "hypothesis = tf.div(1.,1.+tf.exp(-h))\n",
    "cost = -tf.reduce_mean(y_data*tf.log(hypothesis)+(1-y_data)*tf.log(1-hypothesis))\n",
    "a = tf.Variable(0.1)\n",
    "optimizer = tf.train.GradientDescentOptimizer(a)\n",
    "train = optimizer.minimize(cost)\n",
    "init = tf.initialize_all_variables()\n",
    "sess = tf.Session()\n",
    "sess.run(init)"
   ]
  },
  {
   "cell_type": "code",
   "execution_count": null,
   "metadata": {
    "collapsed": false
   },
   "outputs": [
    {
     "name": "stdout",
     "output_type": "stream",
     "text": [
      "0 0.700089 [[-0.32398552  0.48168167  0.87669075  0.77366608  0.77261961 -0.86355543\n",
      "   0.22886613 -0.39925352]]\n",
      "10000 0.656982 [[-1.84449756 -1.85735714 -1.45380485 -1.01807904 -0.38165012 -3.21069312\n",
      "  -1.61133766 -2.60462379]]\n",
      "20000 0.65591 [[-1.84260046 -2.32865715 -1.9207288  -1.18005025 -0.28137523 -3.68354702\n",
      "  -1.79818523 -2.97834015]]\n",
      "30000 0.655714 [[-1.6419853  -2.53232265 -2.11720371 -1.12882316 -0.05129013 -3.8859458\n",
      "  -1.75942814 -3.08952522]]\n",
      "40000 0.655549 [[-1.42088139 -2.68642306 -2.26096344 -1.05317533  0.16590555 -4.03679466\n",
      "  -1.68740964 -3.1524899 ]]\n",
      "50000 0.655358 [[-1.20684767 -2.82493329 -2.38638353 -0.98041409  0.35369477 -4.17025995\n",
      "  -1.61151624 -3.20122433]]\n",
      "60000 0.655242 [[-1.00435519 -2.95383835 -2.49989414 -0.91349179  0.51394475 -4.29277563\n",
      "  -1.53674722 -3.24199009]]\n",
      "70000 0.655139 [[-0.81406844 -3.07458639 -2.60333705 -0.85198897  0.65058804 -4.40575123\n",
      "  -1.46362567 -3.27683663]]\n",
      "80000 0.655059 [[-0.63590461 -3.18799067 -2.69773674 -0.79507422  0.76727754 -4.51037359\n",
      "  -1.39262295 -3.30661368]]\n",
      "90000 0.654975 [[-0.46953493 -3.29473019 -2.78418374 -0.74205899  0.86711329 -4.6076231\n",
      "  -1.32373559 -3.33202124]]\n",
      "100000 0.654918 [[-0.31450665 -3.39508319 -2.86322999 -0.69237679  0.95269954 -4.69742584\n",
      "  -1.25700474 -3.3541224 ]]\n",
      "110000 0.654849 [[-0.170322   -3.48985457 -2.93568182 -0.64559561  1.02618349 -4.78100538\n",
      "  -1.19261813 -3.37272239]]\n",
      "120000 0.654795 [[-0.03641034 -3.57920003 -3.00217295 -0.60134941  1.08942056 -4.85894251\n",
      "  -1.13052797 -3.3887167 ]]\n",
      "130000 0.654754 [[ 0.08781008 -3.66355896 -3.0631752  -0.55935413  1.14393926 -4.93152046\n",
      "  -1.07079148 -3.40240908]]\n",
      "140000 0.654739 [[ 0.20290335 -3.74337077 -3.11907744 -0.51940787  1.19096816 -4.99906397\n",
      "  -1.01343024 -3.41408062]]\n",
      "150000 0.654709 [[ 0.30942532 -3.81872392 -3.1704123  -0.48138919  1.23160899 -5.06196642\n",
      "  -0.95841146 -3.42361736]]\n",
      "160000 0.654683 [[ 0.40797925 -3.89018798 -3.21750069 -0.44506684  1.26679909 -5.12063313\n",
      "  -0.90573794 -3.4313159 ]]\n"
     ]
    }
   ],
   "source": [
    "for step in range(200001):\n",
    "    sess.run(train)\n",
    "    if step % 10000 == 0:\n",
    "        print (step, sess.run(cost), sess.run(W))\n",
    "\n"
   ]
  },
  {
   "cell_type": "code",
   "execution_count": null,
   "metadata": {
    "collapsed": true
   },
   "outputs": [],
   "source": []
  }
 ],
 "metadata": {
  "kernelspec": {
   "display_name": "Python 3",
   "language": "python",
   "name": "python3"
  },
  "language_info": {
   "codemirror_mode": {
    "name": "ipython",
    "version": 3
   },
   "file_extension": ".py",
   "mimetype": "text/x-python",
   "name": "python",
   "nbconvert_exporter": "python",
   "pygments_lexer": "ipython3",
   "version": "3.4.5"
  }
 },
 "nbformat": 4,
 "nbformat_minor": 0
}
