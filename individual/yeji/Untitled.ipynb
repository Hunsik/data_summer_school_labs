{
 "cells": [
  {
   "cell_type": "code",
   "execution_count": 11,
   "metadata": {
    "collapsed": false
   },
   "outputs": [
    {
     "name": "stdout",
     "output_type": "stream",
     "text": [
      "python\n"
     ]
    }
   ],
   "source": [
    "import re\n",
    "p=re.compile('[a-z]+')  #하나이상의 소문자를 찾아내\n",
    "m=p.match('python 3')\n",
    "\n",
    "print(m.group())\n",
    "#* 없던지 여러개던지 상관없음\n",
    "#? 있던지 없던지 상관없음\n",
    "#. 는 줄바꿈 제외하고 모든것 다 상관없음 \\n = NOne이 나옴\n",
    "#re.DOTALL = 줄바꿈까지 포함한 모든것 다 상관없음\n",
    "#re.I 대소문자 상관없이 다 읽어( 케이스를 무시할 것 )\n",
    "#( ) 그룹핑\n",
    "\n",
    "\n",
    "                                                                                                                                                                                                                                                                                                                                                             "
   ]
  },
  {
   "cell_type": "code",
   "execution_count": 12,
   "metadata": {
    "collapsed": false
   },
   "outputs": [
    {
     "name": "stdout",
     "output_type": "stream",
     "text": [
      "<_sre.SRE_Match object; span=(0, 1), match='a'>\n"
     ]
    }
   ],
   "source": [
    "p=re.compile('[ab?c]')\n",
    "match=p.match('abc')\n",
    "print(match)"
   ]
  },
  {
   "cell_type": "code",
   "execution_count": 92,
   "metadata": {
    "collapsed": false
   },
   "outputs": [
    {
     "name": "stdout",
     "output_type": "stream",
     "text": [
      "봉천동\n",
      "봉방읍\n",
      "서면리\n",
      "낙성대동\n"
     ]
    }
   ],
   "source": [
    "import re\n",
    "data=\"\"\"서울특별시 관악구 봉천동 24번지\n",
    "충북 충주시 신훈식 봉방읍 47번지\n",
    "부산광역시 서면리 21번지 \n",
    "낙성대동 장블랑제리\n",
    "서울시 도봉구 쌍문동\"\"\"\n",
    "\n",
    "p=re.compile(\"\\s(\\w+[동|읍|리])\\s*\")\n",
    "m=p.findall(data)\n",
    "\n",
    "\n",
    "for (name) in m:\n",
    "    print(name)\n",
    "\n",
    "# for name in data.split(\"\\n\"):\n",
    "#     m = p.search(name)\n",
    "#     print(m.group())"
   ]
  },
  {
   "cell_type": "code",
   "execution_count": null,
   "metadata": {
    "collapsed": true
   },
   "outputs": [],
   "source": [
    "import re\n",
    "data=\"\"\"seo 940109-2123456\n",
    "park 951010-1987654\"\"\"\n",
    "\n",
    "p=re.compile(\"(?P<name>\\w+)\\s(?P<born>\\d+)[-]\\d+\")\n",
    "#m=p.findall(data)\n",
    "\n",
    "#for (name, i) in m:\n",
    " #   print(i)\n",
    "\n",
    "m=p.finditer(data)\n",
    "for i in m:\n",
    "    print(i.group(\"name\"))\n",
    "\n"
   ]
  }
 ],
 "metadata": {
  "kernelspec": {
   "display_name": "Python 3",
   "language": "python",
   "name": "python3"
  },
  "language_info": {
   "codemirror_mode": {
    "name": "ipython",
    "version": 3
   },
   "file_extension": ".py",
   "mimetype": "text/x-python",
   "name": "python",
   "nbconvert_exporter": "python",
   "pygments_lexer": "ipython3",
   "version": "3.4.5"
  }
 },
 "nbformat": 4,
 "nbformat_minor": 0
}
