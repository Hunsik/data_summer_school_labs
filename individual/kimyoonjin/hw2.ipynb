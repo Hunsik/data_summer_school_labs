{
 "cells": [
  {
   "cell_type": "code",
   "execution_count": 2,
   "metadata": {
    "collapsed": false
   },
   "outputs": [],
   "source": [
    "import urllib\n",
    "import csv\n",
    "import numpy as np\n",
    "\n",
    "import matplotlib.pyplot as plt\n",
    "from sklearn import linear_model, datasets\n",
    "from sklearn.preprocessing import normalize\n",
    "\n",
    "txt = urllib.request.urlopen(\"https://goo.gl/vhm1eU\")\n",
    "data = np.loadtxt(txt, unpack=False, dtype='float32', delimiter=\",\")\n",
    "data[:, :8] = normalize(data[:, :8], axis=0)\n"
   ]
  },
  {
   "cell_type": "code",
   "execution_count": 3,
   "metadata": {
    "collapsed": false
   },
   "outputs": [],
   "source": [
    "x_data = data[:, :8].transpose()\n",
    "# x_data.shape\n",
    "x_data = np.insert(x_data, 0 , 1, axis=0)\n",
    "y_data = data[:,-1]\n"
   ]
  },
  {
   "cell_type": "code",
   "execution_count": 4,
   "metadata": {
    "collapsed": false
   },
   "outputs": [],
   "source": [
    "import tensorflow as tf\n",
    "\n",
    "W = tf.Variable(tf.random_uniform([1, len(x_data)], -1.0, 1.0))\n"
   ]
  },
  {
   "cell_type": "code",
   "execution_count": 5,
   "metadata": {
    "collapsed": false
   },
   "outputs": [],
   "source": [
    "h = tf.matmul(W, x_data)\n",
    "hypothesis = tf.div(1., 1. + tf.exp(-h))\n",
    "cost = -1 * tf.reduce_mean(y_data * tf.log(hypothesis) + (1-y_data) * tf.log(1-hypothesis))\n",
    "\n",
    "a = tf.Variable(0.001)\n",
    "optimizer = tf.train.GradientDescentOptimizer(a)\n",
    "train = optimizer.minimize(cost)\n",
    "\n",
    "init = tf.initialize_all_variables()"
   ]
  },
  {
   "cell_type": "code",
   "execution_count": null,
   "metadata": {
    "collapsed": false
   },
   "outputs": [
    {
     "name": "stdout",
     "output_type": "stream",
     "text": [
      "0 0.645319 [[-0.53719747  0.77746707  0.53450382 -0.27854437  0.75953287  0.04720819\n",
      "   0.09327457  0.17016025  0.03259366]]\n",
      "100000 0.640883 [[-0.71690834  1.01242352  0.73196447 -0.25651887  0.82331043  0.21935123\n",
      "   0.20538156  0.33258888  0.1599367 ]]\n",
      "200000 0.638985 [[-0.75025761  1.25084209  0.93462026 -0.22969678  0.88887554  0.3901819\n",
      "   0.32161063  0.49650165  0.29106691]]\n",
      "300000 0.637141 [[-0.78321439  1.48430514  1.1353991  -0.20287469  0.95444065  0.55699384\n",
      "   0.43783969  0.65749782  0.42061558]]\n"
     ]
    }
   ],
   "source": [
    "sess = tf.Session()\n",
    "sess.run(init)\n",
    "\n",
    "\n",
    "\n",
    "for step in range(2000000):\n",
    "    sess.run(train)\n",
    "    if step %  100000 == 0:\n",
    "        print (step, sess.run(cost),sess.run(W))"
   ]
  },
  {
   "cell_type": "code",
   "execution_count": null,
   "metadata": {
    "collapsed": false
   },
   "outputs": [],
   "source": [
    "sum(logreg.predict(x_data) == y_data) / y_data.shape[0]"
   ]
  },
  {
   "cell_type": "code",
   "execution_count": null,
   "metadata": {
    "collapsed": true
   },
   "outputs": [],
   "source": []
  },
  {
   "cell_type": "code",
   "execution_count": null,
   "metadata": {
    "collapsed": true
   },
   "outputs": [],
   "source": []
  }
 ],
 "metadata": {
  "kernelspec": {
   "display_name": "Python 3",
   "language": "python",
   "name": "python3"
  },
  "language_info": {
   "codemirror_mode": {
    "name": "ipython",
    "version": 3
   },
   "file_extension": ".py",
   "mimetype": "text/x-python",
   "name": "python",
   "nbconvert_exporter": "python",
   "pygments_lexer": "ipython3",
   "version": "3.4.5"
  }
 },
 "nbformat": 4,
 "nbformat_minor": 0
}
