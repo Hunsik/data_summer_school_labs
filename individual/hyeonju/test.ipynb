{
 "cells": [
  {
   "cell_type": "code",
   "execution_count": 1,
   "metadata": {
    "collapsed": true
   },
   "outputs": [],
   "source": [
    "import pandas as pd\n",
    "import numpy as np"
   ]
  },
  {
   "cell_type": "code",
   "execution_count": 2,
   "metadata": {
    "collapsed": false
   },
   "outputs": [],
   "source": [
    "data_source = \"https://archive.ics.uci.edu/ml/machine-learning-databases/cmc/cmc.data\"\n",
    "\n",
    "names = [\"Wife's age\", \"Wife's education\", \"Husband's education\", \"Number of children ever born\", \"Wife's religion\", \n",
    "\"Wife's now working?\", \"Husband's occupation\", \"Standard-of-living index\", \"Media exposure\", \"Contraceptive method used\"]\n",
    "\n",
    "dataframe = pd.read_csv(data_source, names=names)"
   ]
  },
  {
   "cell_type": "code",
   "execution_count": 3,
   "metadata": {
    "collapsed": false
   },
   "outputs": [],
   "source": [
    "for column in range(0,10):\n",
    "    if column not in [0,3]:\n",
    "    #if column not in [0,3,4,5,8]:\n",
    "        dataframe[names[column]] = dataframe[names[column]].astype(\"category\")\n",
    "    \n",
    "#dataframe.dtypes\n",
    "# y_data = df[\"Contraceptive method used\"].values.reshape(-1,1)\n",
    "\n",
    "# y_data[:5]"
   ]
  },
  {
   "cell_type": "code",
   "execution_count": 4,
   "metadata": {
    "collapsed": false
   },
   "outputs": [],
   "source": [
    "y_data = dataframe.pop(\"Contraceptive method used\")\n",
    "\n",
    "# dataframe.pop(\"Wife's age\")\n",
    "x_data = dataframe\n",
    "x_data.insert(0, \"bias\", 1)"
   ]
  },
  {
   "cell_type": "code",
   "execution_count": 5,
   "metadata": {
    "collapsed": false
   },
   "outputs": [],
   "source": [
    "x_data = pd.get_dummies(x_data).as_matrix()\n",
    "y_data = pd.get_dummies(y_data).as_matrix()"
   ]
  },
  {
   "cell_type": "code",
   "execution_count": 6,
   "metadata": {
    "collapsed": false
   },
   "outputs": [
    {
     "data": {
      "text/plain": [
       "array([  1.,  45.,  10.,   1.,   0.,   0.,   0.,   0.,   0.,   1.,   0.,\n",
       "         0.,   1.,   0.,   1.,   0.,   0.,   1.,   0.,   0.,   0.,   0.,\n",
       "         1.,   1.,   0.])"
      ]
     },
     "execution_count": 6,
     "metadata": {},
     "output_type": "execute_result"
    }
   ],
   "source": [
    "x_data[1]"
   ]
  },
  {
   "cell_type": "code",
   "execution_count": 7,
   "metadata": {
    "collapsed": false
   },
   "outputs": [],
   "source": [
    "from sklearn import preprocessing as p\n",
    "\n",
    "min_max_scaler=p.MinMaxScaler()\n",
    "x_data[:, 1:3] = min_max_scaler.fit_transform(x_data[:,1:3])"
   ]
  },
  {
   "cell_type": "code",
   "execution_count": 8,
   "metadata": {
    "collapsed": false
   },
   "outputs": [],
   "source": [
    "idx=np.random.randint(y_data.shape[0],size=int(y_data.shape[0]))\n",
    "training_idx = idx[:int(y_data.shape[0]*0.8)]\n",
    "test_idx = idx[int(y_data.shape[0]*0.8):]\n",
    "\n",
    "x_training, x_test = x_data[training_idx], x_data[test_idx]\n",
    "y_training, y_test = y_data[training_idx], y_data[test_idx]"
   ]
  },
  {
   "cell_type": "code",
   "execution_count": 9,
   "metadata": {
    "collapsed": false
   },
   "outputs": [
    {
     "data": {
      "text/plain": [
       "(1178, 3)"
      ]
     },
     "execution_count": 9,
     "metadata": {},
     "output_type": "execute_result"
    }
   ],
   "source": [
    "y_training.shape"
   ]
  },
  {
   "cell_type": "code",
   "execution_count": 10,
   "metadata": {
    "collapsed": false
   },
   "outputs": [
    {
     "name": "stdout",
     "output_type": "stream",
     "text": [
      "0 1.0985 [[  9.19637896e-05  -1.13469214e-04   2.15053606e-05]\n",
      " [  6.04431443e-05  -4.08070664e-05  -1.96360998e-05]\n",
      " [  1.18845437e-05  -1.71371084e-05   5.25253927e-06]\n",
      " [  4.24448262e-05  -3.31069677e-05  -9.33786305e-06]\n",
      " [  4.27277919e-05  -3.96151809e-05  -3.11262647e-06]\n",
      " [  1.64119883e-05  -4.72552565e-05   3.08432354e-05]\n",
      " [ -9.62083777e-06   6.50819493e-06   3.11261010e-06]\n",
      " [  8.48896434e-06  -8.48897173e-07  -7.64006927e-06]\n",
      " [  3.45217886e-05  -3.08432500e-05  -3.67855341e-06]\n",
      " [  3.08432354e-05  -5.40464280e-05   2.32031653e-05]\n",
      " [  1.81097748e-05  -2.77306408e-05   9.62080958e-06]\n",
      " [  8.48894388e-07  -5.09338133e-06   4.24448081e-06]\n",
      " [  9.11148963e-05  -1.08375832e-04   1.72608761e-05]\n",
      " [  3.02773060e-05  -2.40520803e-05  -6.22524749e-06]\n",
      " [  6.16864709e-05  -8.94171317e-05   2.77306062e-05]\n",
      " [  7.92302762e-06   1.04697183e-05  -1.83927677e-05]\n",
      " [  3.82003418e-05  -4.24448408e-05   4.24447808e-06]\n",
      " [  4.07470325e-05  -7.72496132e-05   3.65025480e-05]\n",
      " [  5.09337860e-06  -4.24448308e-06  -8.48896832e-07]\n",
      " [  2.29202033e-05  -2.54668994e-05   2.54668817e-06]\n",
      " [  3.33899261e-05  -3.70684866e-05   3.67854591e-06]\n",
      " [  3.22580636e-05  -4.15959439e-05   9.33785486e-06]\n",
      " [  3.39557891e-06  -9.33788033e-06   5.94226003e-06]\n",
      " [  6.53650277e-05  -9.67742380e-05   3.14091594e-05]\n",
      " [  2.65987637e-05  -1.66949685e-05  -9.90379522e-06]]\n",
      "500000 0.907841 [[ 0.18407144 -0.33609572  0.15199187]\n",
      " [ 1.55869877  0.50702029 -2.06729698]\n",
      " [-2.92922044  1.06313431  1.86769772]\n",
      " [ 0.67804718 -1.03177989  0.35264274]\n",
      " [ 0.12377363  0.1560508  -0.27839294]\n",
      " [-0.13319829  0.10685098  0.02655604]\n",
      " [-0.48402414  0.43179619  0.05225865]\n",
      " [-0.09703401  1.13758504 -1.04060781]\n",
      " [ 0.2643466  -0.56250137  0.29782659]\n",
      " [ 0.03793792 -0.59060955  0.55196267]\n",
      " [-0.02150917 -0.3193754   0.34048715]\n",
      " [-0.04048939 -0.14565744  0.18589996]\n",
      " [ 0.22453482 -0.19000782 -0.03402076]\n",
      " [ 0.11764118 -0.16694865  0.05029437]\n",
      " [ 0.06675706 -0.16885924  0.10187699]\n",
      " [ 0.03917913  0.14331819 -0.18244386]\n",
      " [ 0.13108435 -0.1619619   0.0316368 ]\n",
      " [ 0.00473493 -0.20177567  0.19663407]\n",
      " [ 0.00918911 -0.11560298  0.10640191]\n",
      " [ 0.46158361 -0.70068151  0.23917463]\n",
      " [ 0.16326496 -0.22302905  0.05988057]\n",
      " [-0.07113439  0.23321413 -0.1615199 ]\n",
      " [-0.36810791  0.352649    0.01538433]\n",
      " [-0.09672874 -0.09776774  0.19483498]\n",
      " [ 0.28259555 -0.23864451 -0.04247383]]\n",
      "1000000 0.905627 [[ 0.1843459  -0.33619761  0.15257187]\n",
      " [ 1.8514775   0.47743833 -2.32387972]\n",
      " [-3.5768888   1.23960805  2.33363223]\n",
      " [ 0.72742122 -1.14826274  0.42064458]\n",
      " [ 0.11667915  0.19315438 -0.30581257]\n",
      " [-0.13843346  0.14377709 -0.00482064]\n",
      " [-0.52076161  0.47513527  0.04450135]\n",
      " [-0.08024851  1.30990744 -1.23366225]\n",
      " [ 0.29192966 -0.63320047  0.34330571]\n",
      " [ 0.01879503 -0.63764781  0.61663419]\n",
      " [-0.04714522 -0.37173557  0.4179194 ]\n",
      " [-0.0623404  -0.14371376  0.20330745]\n",
      " [ 0.24747567 -0.19352092 -0.05215672]\n",
      " [ 0.10886471 -0.16680942  0.05724595]\n",
      " [ 0.07626913 -0.17032395  0.09515398]\n",
      " [ 0.04264307  0.14371075 -0.18828748]\n",
      " [ 0.14160582 -0.16199341  0.0224259 ]\n",
      " [ 0.01220859 -0.19717853  0.1856612 ]\n",
      " [-0.01274798 -0.1204645   0.13306184]\n",
      " [ 0.48331788 -0.73216939  0.25      ]\n",
      " [ 0.16354004 -0.22414497  0.05968574]\n",
      " [-0.07392025  0.24737905 -0.17320023]\n",
      " [-0.38921985  0.37200698  0.01664484]\n",
      " [-0.09151668 -0.10794088  0.19992593]\n",
      " [ 0.28239742 -0.23031637 -0.04743357]]\n",
      "1500000 0.905476 [[ 0.18423024 -0.33619761  0.15245385]\n",
      " [ 1.92540276  0.46492487 -2.39211512]\n",
      " [-3.74680614  1.28636289  2.45481634]\n",
      " [ 0.74051428 -1.16981292  0.43675303]\n",
      " [ 0.11626482  0.20159395 -0.31451231]\n",
      " [-0.13843346  0.15244183 -0.01456137]\n",
      " [-0.52426922  0.49003643  0.04515693]\n",
      " [-0.07189692  1.35161817 -1.28886497]\n",
      " [ 0.29673889 -0.64927983  0.35523593]\n",
      " [ 0.01407308 -0.64325929  0.63682359]\n",
      " [-0.0574825  -0.38215476  0.4380984 ]\n",
      " [-0.06864204 -0.14367424  0.20618929]\n",
      " [ 0.25399044 -0.1941869  -0.05725191]\n",
      " [ 0.10699623 -0.16676213  0.05784772]\n",
      " [ 0.07990971 -0.17044823  0.09323381]\n",
      " [ 0.04425944  0.14371075 -0.18906574]\n",
      " [ 0.14503661 -0.16233841  0.0208411 ]\n",
      " [ 0.01368782 -0.19706185  0.18285656]\n",
      " [-0.01842442 -0.1204645   0.1404697 ]\n",
      " [ 0.48477307 -0.73216939  0.25      ]\n",
      " [ 0.16354077 -0.22524029  0.06078263]\n",
      " [-0.07412095  0.24958    -0.17460224]\n",
      " [-0.39587197  0.37400755  0.01710186]\n",
      " [-0.09075236 -0.11095493  0.20068799]\n",
      " [ 0.28239742 -0.22824448 -0.05041712]]\n",
      "2000000 0.90547 [[ 0.18423024 -0.33619761  0.15245385]\n",
      " [ 1.94257832  0.46827474 -2.39211512]\n",
      " [-3.77579927  1.28636289  2.45481634]\n",
      " [ 0.74051726 -1.16981292  0.43689343]\n",
      " [ 0.11643588  0.2047831  -0.3150115 ]\n",
      " [-0.13843346  0.15515588 -0.01528269]\n",
      " [-0.52426922  0.49425471  0.0463044 ]\n",
      " [-0.07243458  1.35334468 -1.28886497]\n",
      " [ 0.29779363 -0.64970744  0.35804966]\n",
      " [ 0.01293157 -0.64325929  0.63899267]\n",
      " [-0.05872792 -0.38215476  0.44038606]\n",
      " [-0.070054   -0.14367424  0.2064617 ]\n",
      " [ 0.25399044 -0.19514272 -0.05813126]\n",
      " [ 0.10699886 -0.16676213  0.05784772]\n",
      " [ 0.08085986 -0.17045268  0.0932495 ]\n",
      " [ 0.04418178  0.14371075 -0.18906574]\n",
      " [ 0.14549178 -0.16254576  0.0208411 ]\n",
      " [ 0.01408502 -0.19706185  0.18285656]\n",
      " [-0.02036591 -0.1204645   0.14059818]\n",
      " [ 0.48492104 -0.73216939  0.25      ]\n",
      " [ 0.16354077 -0.22553323  0.06105766]\n",
      " [-0.07423536  0.24958    -0.17460224]\n",
      " [-0.39679772  0.37400755  0.01741169]\n",
      " [-0.09075236 -0.11277563  0.20068799]\n",
      " [ 0.28239742 -0.22824448 -0.05080172]]\n",
      "2500000 0.90547 [[ 0.18423024 -0.33619761  0.15245385]\n",
      " [ 1.94257855  0.46827474 -2.39211512]\n",
      " [-3.77580094  1.28636289  2.45481634]\n",
      " [ 0.74051726 -1.16981292  0.43689343]\n",
      " [ 0.11643719  0.2047831  -0.3150115 ]\n",
      " [-0.13843346  0.15515588 -0.01528281]\n",
      " [-0.52426922  0.49425489  0.0463044 ]\n",
      " [-0.07243458  1.35334468 -1.28886497]\n",
      " [ 0.29779363 -0.64970744  0.35804966]\n",
      " [ 0.01293121 -0.64325929  0.63899267]\n",
      " [-0.05872793 -0.38215476  0.44038606]\n",
      " [-0.070054   -0.14367424  0.2064617 ]\n",
      " [ 0.25399044 -0.19514351 -0.05813212]\n",
      " [ 0.10699993 -0.16676213  0.05784772]\n",
      " [ 0.08085986 -0.17045268  0.0932495 ]\n",
      " [ 0.04418178  0.14371075 -0.18906574]\n",
      " [ 0.14549178 -0.16254576  0.0208411 ]\n",
      " [ 0.01408391 -0.19706185  0.18285656]\n",
      " [-0.02039457 -0.1204645   0.14059818]\n",
      " [ 0.48492149 -0.73216939  0.25      ]\n",
      " [ 0.16354077 -0.22553323  0.06105766]\n",
      " [-0.07423536  0.24958    -0.17460224]\n",
      " [-0.39679772  0.37400755  0.01741169]\n",
      " [-0.09075236 -0.11277563  0.20068799]\n",
      " [ 0.28239742 -0.22824448 -0.05080172]]\n"
     ]
    },
    {
     "ename": "KeyboardInterrupt",
     "evalue": "",
     "output_type": "error",
     "traceback": [
      "\u001b[1;31m---------------------------------------------------------------------------\u001b[0m",
      "\u001b[1;31mKeyboardInterrupt\u001b[0m                         Traceback (most recent call last)",
      "\u001b[1;32m<ipython-input-10-a5ee810afdec>\u001b[0m in \u001b[0;36m<module>\u001b[1;34m()\u001b[0m\n\u001b[0;32m     33\u001b[0m \u001b[1;33m\u001b[0m\u001b[0m\n\u001b[0;32m     34\u001b[0m \u001b[1;32mfor\u001b[0m \u001b[0mstep\u001b[0m \u001b[1;32min\u001b[0m \u001b[0mrange\u001b[0m\u001b[1;33m(\u001b[0m\u001b[1;36m5000000\u001b[0m\u001b[1;33m)\u001b[0m\u001b[1;33m:\u001b[0m\u001b[1;33m\u001b[0m\u001b[0m\n\u001b[1;32m---> 35\u001b[1;33m     \u001b[0msess\u001b[0m\u001b[1;33m.\u001b[0m\u001b[0mrun\u001b[0m\u001b[1;33m(\u001b[0m\u001b[0mtrain\u001b[0m\u001b[1;33m,\u001b[0m \u001b[0mfeed_dict\u001b[0m\u001b[1;33m=\u001b[0m\u001b[1;33m{\u001b[0m\u001b[0mX\u001b[0m\u001b[1;33m:\u001b[0m\u001b[0mx_training\u001b[0m\u001b[1;33m,\u001b[0m \u001b[0mY\u001b[0m\u001b[1;33m:\u001b[0m\u001b[0my_training\u001b[0m\u001b[1;33m}\u001b[0m\u001b[1;33m)\u001b[0m\u001b[1;33m\u001b[0m\u001b[0m\n\u001b[0m\u001b[0;32m     36\u001b[0m     \u001b[1;32mif\u001b[0m \u001b[0mstep\u001b[0m \u001b[1;33m%\u001b[0m \u001b[1;36m500000\u001b[0m \u001b[1;33m==\u001b[0m \u001b[1;36m0\u001b[0m\u001b[1;33m:\u001b[0m\u001b[1;33m\u001b[0m\u001b[0m\n\u001b[0;32m     37\u001b[0m         \u001b[0mprint\u001b[0m \u001b[1;33m(\u001b[0m\u001b[0mstep\u001b[0m\u001b[1;33m,\u001b[0m \u001b[0msess\u001b[0m\u001b[1;33m.\u001b[0m\u001b[0mrun\u001b[0m\u001b[1;33m(\u001b[0m\u001b[0mcost\u001b[0m\u001b[1;33m,\u001b[0m \u001b[0mfeed_dict\u001b[0m\u001b[1;33m=\u001b[0m\u001b[1;33m{\u001b[0m\u001b[0mX\u001b[0m\u001b[1;33m:\u001b[0m\u001b[0mx_training\u001b[0m\u001b[1;33m,\u001b[0m \u001b[0mY\u001b[0m\u001b[1;33m:\u001b[0m\u001b[0my_training\u001b[0m\u001b[1;33m}\u001b[0m\u001b[1;33m)\u001b[0m\u001b[1;33m,\u001b[0m \u001b[0msess\u001b[0m\u001b[1;33m.\u001b[0m\u001b[0mrun\u001b[0m\u001b[1;33m(\u001b[0m\u001b[0mW\u001b[0m\u001b[1;33m)\u001b[0m\u001b[1;33m)\u001b[0m\u001b[1;33m\u001b[0m\u001b[0m\n",
      "\u001b[1;32m/home/hyeonju/anaconda3/envs/ml_python/lib/python3.4/site-packages/tensorflow/python/client/session.py\u001b[0m in \u001b[0;36mrun\u001b[1;34m(self, fetches, feed_dict, options, run_metadata)\u001b[0m\n\u001b[0;32m    370\u001b[0m     \u001b[1;32mtry\u001b[0m\u001b[1;33m:\u001b[0m\u001b[1;33m\u001b[0m\u001b[0m\n\u001b[0;32m    371\u001b[0m       result = self._run(None, fetches, feed_dict, options_ptr,\n\u001b[1;32m--> 372\u001b[1;33m                          run_metadata_ptr)\n\u001b[0m\u001b[0;32m    373\u001b[0m       \u001b[1;32mif\u001b[0m \u001b[0mrun_metadata\u001b[0m\u001b[1;33m:\u001b[0m\u001b[1;33m\u001b[0m\u001b[0m\n\u001b[0;32m    374\u001b[0m         \u001b[0mproto_data\u001b[0m \u001b[1;33m=\u001b[0m \u001b[0mtf_session\u001b[0m\u001b[1;33m.\u001b[0m\u001b[0mTF_GetBuffer\u001b[0m\u001b[1;33m(\u001b[0m\u001b[0mrun_metadata_ptr\u001b[0m\u001b[1;33m)\u001b[0m\u001b[1;33m\u001b[0m\u001b[0m\n",
      "\u001b[1;32m/home/hyeonju/anaconda3/envs/ml_python/lib/python3.4/site-packages/tensorflow/python/client/session.py\u001b[0m in \u001b[0;36m_run\u001b[1;34m(self, handle, fetches, feed_dict, options, run_metadata)\u001b[0m\n\u001b[0;32m    634\u001b[0m     \u001b[1;32mtry\u001b[0m\u001b[1;33m:\u001b[0m\u001b[1;33m\u001b[0m\u001b[0m\n\u001b[0;32m    635\u001b[0m       results = self._do_run(handle, target_list, unique_fetches,\n\u001b[1;32m--> 636\u001b[1;33m                              feed_dict_string, options, run_metadata)\n\u001b[0m\u001b[0;32m    637\u001b[0m     \u001b[1;32mfinally\u001b[0m\u001b[1;33m:\u001b[0m\u001b[1;33m\u001b[0m\u001b[0m\n\u001b[0;32m    638\u001b[0m       \u001b[1;31m# The movers are no longer used. Delete them.\u001b[0m\u001b[1;33m\u001b[0m\u001b[1;33m\u001b[0m\u001b[0m\n",
      "\u001b[1;32m/home/hyeonju/anaconda3/envs/ml_python/lib/python3.4/site-packages/tensorflow/python/client/session.py\u001b[0m in \u001b[0;36m_do_run\u001b[1;34m(self, handle, target_list, fetch_list, feed_dict, options, run_metadata)\u001b[0m\n\u001b[0;32m    706\u001b[0m     \u001b[1;32mif\u001b[0m \u001b[0mhandle\u001b[0m \u001b[1;32mis\u001b[0m \u001b[1;32mNone\u001b[0m\u001b[1;33m:\u001b[0m\u001b[1;33m\u001b[0m\u001b[0m\n\u001b[0;32m    707\u001b[0m       return self._do_call(_run_fn, self._session, feed_dict, fetch_list,\n\u001b[1;32m--> 708\u001b[1;33m                            target_list, options, run_metadata)\n\u001b[0m\u001b[0;32m    709\u001b[0m     \u001b[1;32melse\u001b[0m\u001b[1;33m:\u001b[0m\u001b[1;33m\u001b[0m\u001b[0m\n\u001b[0;32m    710\u001b[0m       return self._do_call(_prun_fn, self._session, handle, feed_dict,\n",
      "\u001b[1;32m/home/hyeonju/anaconda3/envs/ml_python/lib/python3.4/site-packages/tensorflow/python/client/session.py\u001b[0m in \u001b[0;36m_do_call\u001b[1;34m(self, fn, *args)\u001b[0m\n\u001b[0;32m    713\u001b[0m   \u001b[1;32mdef\u001b[0m \u001b[0m_do_call\u001b[0m\u001b[1;33m(\u001b[0m\u001b[0mself\u001b[0m\u001b[1;33m,\u001b[0m \u001b[0mfn\u001b[0m\u001b[1;33m,\u001b[0m \u001b[1;33m*\u001b[0m\u001b[0margs\u001b[0m\u001b[1;33m)\u001b[0m\u001b[1;33m:\u001b[0m\u001b[1;33m\u001b[0m\u001b[0m\n\u001b[0;32m    714\u001b[0m     \u001b[1;32mtry\u001b[0m\u001b[1;33m:\u001b[0m\u001b[1;33m\u001b[0m\u001b[0m\n\u001b[1;32m--> 715\u001b[1;33m       \u001b[1;32mreturn\u001b[0m \u001b[0mfn\u001b[0m\u001b[1;33m(\u001b[0m\u001b[1;33m*\u001b[0m\u001b[0margs\u001b[0m\u001b[1;33m)\u001b[0m\u001b[1;33m\u001b[0m\u001b[0m\n\u001b[0m\u001b[0;32m    716\u001b[0m     \u001b[1;32mexcept\u001b[0m \u001b[0merrors\u001b[0m\u001b[1;33m.\u001b[0m\u001b[0mOpError\u001b[0m \u001b[1;32mas\u001b[0m \u001b[0me\u001b[0m\u001b[1;33m:\u001b[0m\u001b[1;33m\u001b[0m\u001b[0m\n\u001b[0;32m    717\u001b[0m       \u001b[0mmessage\u001b[0m \u001b[1;33m=\u001b[0m \u001b[0mcompat\u001b[0m\u001b[1;33m.\u001b[0m\u001b[0mas_text\u001b[0m\u001b[1;33m(\u001b[0m\u001b[0me\u001b[0m\u001b[1;33m.\u001b[0m\u001b[0mmessage\u001b[0m\u001b[1;33m)\u001b[0m\u001b[1;33m\u001b[0m\u001b[0m\n",
      "\u001b[1;32m/home/hyeonju/anaconda3/envs/ml_python/lib/python3.4/site-packages/tensorflow/python/client/session.py\u001b[0m in \u001b[0;36m_run_fn\u001b[1;34m(session, feed_dict, fetch_list, target_list, options, run_metadata)\u001b[0m\n\u001b[0;32m    695\u001b[0m         return tf_session.TF_Run(session, options,\n\u001b[0;32m    696\u001b[0m                                  \u001b[0mfeed_dict\u001b[0m\u001b[1;33m,\u001b[0m \u001b[0mfetch_list\u001b[0m\u001b[1;33m,\u001b[0m \u001b[0mtarget_list\u001b[0m\u001b[1;33m,\u001b[0m\u001b[1;33m\u001b[0m\u001b[0m\n\u001b[1;32m--> 697\u001b[1;33m                                  status, run_metadata)\n\u001b[0m\u001b[0;32m    698\u001b[0m \u001b[1;33m\u001b[0m\u001b[0m\n\u001b[0;32m    699\u001b[0m     \u001b[1;32mdef\u001b[0m \u001b[0m_prun_fn\u001b[0m\u001b[1;33m(\u001b[0m\u001b[0msession\u001b[0m\u001b[1;33m,\u001b[0m \u001b[0mhandle\u001b[0m\u001b[1;33m,\u001b[0m \u001b[0mfeed_dict\u001b[0m\u001b[1;33m,\u001b[0m \u001b[0mfetch_list\u001b[0m\u001b[1;33m)\u001b[0m\u001b[1;33m:\u001b[0m\u001b[1;33m\u001b[0m\u001b[0m\n",
      "\u001b[1;31mKeyboardInterrupt\u001b[0m: "
     ]
    }
   ],
   "source": [
    "import tensorflow as tf\n",
    "\n",
    "# x = x_training.T\n",
    "\n",
    "W = tf.Variable(tf.zeros([len(x_data[0]), len(y_data[0])]))\n",
    "\n",
    "# W = tf.Variable(tf.random_uniform([len(y_training[0]),len(x)], -1.0, 1.0))\n",
    "\n",
    "# X = tf.placeholder(tf.float32)\n",
    "# Y = tf.placeholder(tf.float32)\n",
    "                \n",
    "X = tf.placeholder(\"float\", [None, len(x_data[0])])\n",
    "Y = tf.placeholder(\"float\", [None, len(y_data[0])])\n",
    "\n",
    "\n",
    "hypothesis = tf.nn.softmax(tf.matmul(X, W))\n",
    "\n",
    "cost = tf.reduce_mean(-tf.reduce_sum(Y * tf.log(hypothesis), reduction_indices=1))\n",
    "\n",
    "W_val = []\n",
    "cost_val = []\n",
    "\n",
    "a = tf.Variable(0.001)\n",
    "optimizer = tf.train.GradientDescentOptimizer(0.001)\n",
    "train = optimizer.minimize(cost)\n",
    "\n",
    "init = tf.initialize_all_variables()\n",
    "\n",
    "sess = tf.Session()\n",
    "sess.run(init)\n",
    "\n",
    "#y_training = y_training.T\n",
    "\n",
    "for step in range(5000000):\n",
    "    sess.run(train, feed_dict={X:x_training, Y:y_training})\n",
    "    if step % 500000 == 0:\n",
    "        print (step, sess.run(cost, feed_dict={X:x_training, Y:y_training}), sess.run(W))"
   ]
  },
  {
   "cell_type": "code",
   "execution_count": 11,
   "metadata": {
    "collapsed": false
   },
   "outputs": [
    {
     "data": {
      "text/plain": [
       "0.52203389830508473"
      ]
     },
     "execution_count": 11,
     "metadata": {},
     "output_type": "execute_result"
    }
   ],
   "source": [
    "hypothesis_value=sess.run(hypothesis,feed_dict={X:x_test})\n",
    "result=[np.argmax(predict) == np.argmax(original_value) for predict, original_value in zip(hypothesis_value,y_test)]\n",
    "\n",
    "sum(result)/len(y_test)"
   ]
  },
  {
   "cell_type": "code",
   "execution_count": null,
   "metadata": {
    "collapsed": true
   },
   "outputs": [],
   "source": []
  }
 ],
 "metadata": {
  "kernelspec": {
   "display_name": "Python 3",
   "language": "python",
   "name": "python3"
  },
  "language_info": {
   "codemirror_mode": {
    "name": "ipython",
    "version": 3
   },
   "file_extension": ".py",
   "mimetype": "text/x-python",
   "name": "python",
   "nbconvert_exporter": "python",
   "pygments_lexer": "ipython3",
   "version": "3.4.5"
  }
 },
 "nbformat": 4,
 "nbformat_minor": 0
}
