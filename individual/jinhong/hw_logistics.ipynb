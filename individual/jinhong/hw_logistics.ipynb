{
 "cells": [
  {
   "cell_type": "code",
   "execution_count": 1,
   "metadata": {
    "collapsed": true
   },
   "outputs": [],
   "source": [
    "%matplotlib inline\n",
    "import pandas\n",
    "import matplotlib.pyplot as plt\n",
    "import numpy as np\n",
    "import tensorflow as tf\n",
    "from sklearn.preprocessing import normalize"
   ]
  },
  {
   "cell_type": "code",
   "execution_count": 2,
   "metadata": {
    "collapsed": true
   },
   "outputs": [],
   "source": [
    "data_url=\"http://goo.gl/vhm1eU\""
   ]
  },
  {
   "cell_type": "code",
   "execution_count": 3,
   "metadata": {
    "collapsed": false
   },
   "outputs": [
    {
     "data": {
      "text/html": [
       "<div>\n",
       "<table border=\"1\" class=\"dataframe\">\n",
       "  <thead>\n",
       "    <tr style=\"text-align: right;\">\n",
       "      <th></th>\n",
       "      <th>prg</th>\n",
       "      <th>plas</th>\n",
       "      <th>pres</th>\n",
       "      <th>skin</th>\n",
       "      <th>test</th>\n",
       "      <th>mass</th>\n",
       "      <th>pedi</th>\n",
       "      <th>age</th>\n",
       "      <th>class</th>\n",
       "    </tr>\n",
       "  </thead>\n",
       "  <tbody>\n",
       "    <tr>\n",
       "      <th>0</th>\n",
       "      <td>6</td>\n",
       "      <td>148</td>\n",
       "      <td>72</td>\n",
       "      <td>35</td>\n",
       "      <td>0</td>\n",
       "      <td>33.6</td>\n",
       "      <td>0.627</td>\n",
       "      <td>50</td>\n",
       "      <td>1</td>\n",
       "    </tr>\n",
       "    <tr>\n",
       "      <th>1</th>\n",
       "      <td>1</td>\n",
       "      <td>85</td>\n",
       "      <td>66</td>\n",
       "      <td>29</td>\n",
       "      <td>0</td>\n",
       "      <td>26.6</td>\n",
       "      <td>0.351</td>\n",
       "      <td>31</td>\n",
       "      <td>0</td>\n",
       "    </tr>\n",
       "    <tr>\n",
       "      <th>2</th>\n",
       "      <td>8</td>\n",
       "      <td>183</td>\n",
       "      <td>64</td>\n",
       "      <td>0</td>\n",
       "      <td>0</td>\n",
       "      <td>23.3</td>\n",
       "      <td>0.672</td>\n",
       "      <td>32</td>\n",
       "      <td>1</td>\n",
       "    </tr>\n",
       "    <tr>\n",
       "      <th>3</th>\n",
       "      <td>1</td>\n",
       "      <td>89</td>\n",
       "      <td>66</td>\n",
       "      <td>23</td>\n",
       "      <td>94</td>\n",
       "      <td>28.1</td>\n",
       "      <td>0.167</td>\n",
       "      <td>21</td>\n",
       "      <td>0</td>\n",
       "    </tr>\n",
       "    <tr>\n",
       "      <th>4</th>\n",
       "      <td>0</td>\n",
       "      <td>137</td>\n",
       "      <td>40</td>\n",
       "      <td>35</td>\n",
       "      <td>168</td>\n",
       "      <td>43.1</td>\n",
       "      <td>2.288</td>\n",
       "      <td>33</td>\n",
       "      <td>1</td>\n",
       "    </tr>\n",
       "  </tbody>\n",
       "</table>\n",
       "</div>"
      ],
      "text/plain": [
       "   prg  plas  pres  skin  test  mass   pedi  age  class\n",
       "0    6   148    72    35     0  33.6  0.627   50      1\n",
       "1    1    85    66    29     0  26.6  0.351   31      0\n",
       "2    8   183    64     0     0  23.3  0.672   32      1\n",
       "3    1    89    66    23    94  28.1  0.167   21      0\n",
       "4    0   137    40    35   168  43.1  2.288   33      1"
      ]
     },
     "execution_count": 3,
     "metadata": {},
     "output_type": "execute_result"
    }
   ],
   "source": [
    "names = ['prg', 'plas', 'pres','skin','test','mass','pedi', 'age','class']\n",
    "\n",
    "df = pandas.read_csv(data_url, names=names)\n",
    "df[:5]"
   ]
  },
  {
   "cell_type": "code",
   "execution_count": 4,
   "metadata": {
    "collapsed": false
   },
   "outputs": [
    {
     "data": {
      "text/plain": [
       "0    1\n",
       "1    0\n",
       "2    1\n",
       "3    0\n",
       "4    1\n",
       "Name: class, dtype: int64"
      ]
     },
     "execution_count": 4,
     "metadata": {},
     "output_type": "execute_result"
    }
   ],
   "source": [
    "y_data=df['class']\n",
    "#y_data=y_data.reshape(len(y_data),1)\n",
    "y_data[:5]"
   ]
  },
  {
   "cell_type": "code",
   "execution_count": 5,
   "metadata": {
    "collapsed": false
   },
   "outputs": [
    {
     "data": {
      "text/plain": [
       "array([[ 0.04235974,  0.04270834,  0.03620428,  0.04857917,  0.        ,\n",
       "         0.03679789,  0.03924821,  0.05117289],\n",
       "       [ 0.00705996,  0.02452844,  0.03318725,  0.04025131,  0.        ,\n",
       "         0.02913166,  0.02197149,  0.03172719],\n",
       "       [ 0.05647966,  0.05280828,  0.03218158,  0.        ,  0.        ,\n",
       "         0.02551759,  0.04206507,  0.03275065],\n",
       "       [ 0.00705996,  0.02568272,  0.03318725,  0.03192345,  0.02420843,\n",
       "         0.03077443,  0.01045367,  0.02149261],\n",
       "       [ 0.        ,  0.03953407,  0.02011349,  0.04857917,  0.04326614,\n",
       "         0.04720206,  0.14322153,  0.03377411]])"
      ]
     },
     "execution_count": 5,
     "metadata": {},
     "output_type": "execute_result"
    }
   ],
   "source": [
    "x_data=df.ix[:,:-1]\n",
    "norm_x= normalize(x_data, axis=0)\n",
    "#norm_x=(x_data-x_data.min())/(x_data.max()-x_data.min())\n",
    "norm_x[:5]"
   ]
  },
  {
   "cell_type": "code",
   "execution_count": 6,
   "metadata": {
    "collapsed": false
   },
   "outputs": [
    {
     "data": {
      "text/plain": [
       "array([[ 1.        ,  1.        ,  1.        , ...,  1.        ,\n",
       "         1.        ,  1.        ],\n",
       "       [ 0.04235974,  0.00705996,  0.05647966, ...,  0.03529979,\n",
       "         0.00705996,  0.00705996],\n",
       "       [ 0.04270834,  0.02452844,  0.05280828, ...,  0.03491695,\n",
       "         0.0363598 ,  0.026837  ],\n",
       "       [ 0.03620427,  0.03318725,  0.03218158, ...,  0.03620427,\n",
       "         0.03017023,  0.0351986 ],\n",
       "       [ 0.04857917,  0.04025131,  0.        , ...,  0.03192345,\n",
       "         0.        ,  0.04302726]], dtype=float32)"
      ]
     },
     "execution_count": 6,
     "metadata": {},
     "output_type": "execute_result"
    }
   ],
   "source": [
    "x_data=norm_x#.values\n",
    "x1=np.ones(len(x_data))\n",
    "x1=x1.reshape(len(x_data),1)\n",
    "x_data=np.float32(np.concatenate((x1, x_data), axis=1))\n",
    "x_data=np.transpose(x_data)\n",
    "x_data[:5]"
   ]
  },
  {
   "cell_type": "code",
   "execution_count": 7,
   "metadata": {
    "collapsed": false
   },
   "outputs": [],
   "source": [
    "X=tf.placeholder(tf.float32)\n",
    "Y=tf.placeholder(tf.float32)\n",
    "\n",
    "W = tf.Variable(tf.random_uniform([1,len(x_data)], -1.0, 1.0))\n"
   ]
  },
  {
   "cell_type": "code",
   "execution_count": 8,
   "metadata": {
    "collapsed": false
   },
   "outputs": [],
   "source": [
    "h=tf.matmul(W,X)\n",
    "hypothesis = tf.div(1., 1. + tf.exp(-h))\n",
    "cost = -1 * tf.reduce_mean(Y * tf.log(hypothesis) + (1-Y) * tf.log(1-hypothesis))"
   ]
  },
  {
   "cell_type": "code",
   "execution_count": 9,
   "metadata": {
    "collapsed": false
   },
   "outputs": [
    {
     "name": "stdout",
     "output_type": "stream",
     "text": [
      "0 0.72422 [[ 0.20879316  0.38308755  0.52283001 -0.55434912  0.58335137  0.44947597\n",
      "  -0.62164867 -0.27865943 -0.93770659]]\n",
      "100000 0.564126 [[ -2.68022299  13.44687748  16.913517     0.40945342   2.3534112\n",
      "    5.89563894   9.00977993   9.40341568   7.86028671]]\n",
      "200000 0.539109 [[ -3.65516233  16.1175251   29.33483696  -0.26783764   1.80871129\n",
      "    5.33218622  16.52249527  12.67670345  11.77918911]]\n",
      "300000 0.523443 [[ -4.29422474  16.30084419  39.63007355  -1.44418454   1.32804143\n",
      "    4.31292105  22.91154099  13.89923477  13.91910362]]\n",
      "400000 0.512167 [[ -4.78008127  15.95717812  48.38736725  -2.8023932    1.01441789\n",
      "    3.3502636   28.4509697   14.33115864  15.22558117]]\n",
      "500000 0.503737 [[ -5.17767811  15.65501595  55.93929291  -4.21976042   0.82467365\n",
      "    2.51066995  33.28853226  14.4615984   16.05209732]]\n",
      "600000 0.497298 [[ -5.51206255  15.41596889  62.48389816  -5.6274538    0.71092778\n",
      "    1.78184366  37.59082413  14.46552849  16.56170654]]\n",
      "700000 0.492325 [[ -5.79861879  15.27264404  68.20787811  -6.99744558   0.64200306\n",
      "    1.14550233  41.36467743  14.46552849  16.87664223]]\n",
      "800000 0.488408 [[ -6.04944468  15.20980835  73.26593018  -8.3126049    0.60019678\n",
      "    0.58827692  44.74151993  14.46552849  17.06737709]]\n",
      "900000 0.485252 [[ -6.27201033  15.20980835  77.84356689  -9.55238152   0.57575917\n",
      "    0.09998138  47.79208374  14.46552849  17.09580231]]\n",
      "1000000 0.482841 [[ -6.45758629  15.23642349  81.66921997 -10.71934795   0.56156689\n",
      "   -0.33011672  50.46237183  14.46552849  17.09580231]]\n",
      "1100000 0.480805 [[ -6.63262653  15.30582142  85.30975342 -11.82571125   0.55442065\n",
      "   -0.71748817  52.89919662  14.46552849  17.09580231]]\n",
      "1200000 0.479198 [[ -6.7812314   15.39227104  88.36151123 -12.86876106   0.55285901\n",
      "   -1.05258298  55.18801498  14.46552849  16.98946571]]\n",
      "1300000 0.477823 [[ -6.91841555  15.48763847  91.41326904 -13.82243538   0.55062902\n",
      "   -1.36496377  57.12926483  14.46552849  16.80425644]]\n",
      "1400000 0.476764 [[ -7.03511047  15.58300591  93.79668427 -14.70741367   0.55047113\n",
      "   -1.6428827   59.03661346  14.48737812  16.65155983]]\n",
      "1500000 0.475873 [[ -7.14096355  15.67837334  96.08550262 -15.54233837   0.54680437\n",
      "   -1.88567066  60.65635681  14.51512814  16.50956917]]\n",
      "1600000 0.475082 [[ -7.24596071  15.77374077  98.37432098 -16.30527878   0.54680437\n",
      "   -2.11741185  62.18223572  14.54393005  16.35632706]]\n",
      "1700000 0.474439 [[  -7.33906126   15.8691082   100.2700882   -17.06821823    0.54775423\n",
      "    -2.33255601   63.70811462   14.57368755   16.25779533]]\n",
      "1800000 0.473931 [[  -7.42356634   15.96447563  101.7959671   -17.6884594     0.54047483\n",
      "    -2.50481343   65.20185089   14.59488106   16.1751194 ]]\n",
      "1900000 0.473496 [[  -7.49981165   16.07723045  103.32184601  -18.26066399    0.51854497\n",
      "    -2.66769171   66.45030212   14.62339306   16.04851532]]\n",
      "2000000 0.473149 [[  -7.5592041    16.14939308  104.84772491  -18.83286858    0.52215087\n",
      "    -2.81074286   67.21324158   14.65046692   15.94576645]]\n",
      "2100000 0.472831 [[  -7.61933804   16.22211075  106.37360382  -19.40507317    0.54317355\n",
      "    -2.953794     67.97618103   14.67568588   15.85039902]]\n",
      "2200000 0.472551 [[  -7.67986488   16.29267502  107.83854675  -19.90710449    0.57222557\n",
      "    -3.10239863   68.73912048   14.70298195   15.75503159]]\n",
      "2300000 0.472377 [[  -7.71896315   16.35555077  108.60148621  -20.28857422    0.59565198\n",
      "    -3.21946335   69.50205994   14.71821022   15.65966415]]\n",
      "2400000 0.472213 [[  -7.75812435   16.42059135  109.36442566  -20.67004395    0.60326964\n",
      "    -3.31483078   70.26499939   14.73224354   15.56429672]]\n",
      "2500000 0.47206 [[  -7.79729795   16.48690796  110.12736511  -21.05151367    0.60029763\n",
      "    -3.3974247    71.02793884   14.74590588   15.46892929]]\n",
      "2600000 0.471918 [[  -7.83666897   16.55059433  110.89030457  -21.4329834     0.58958292\n",
      "    -3.47568727   71.7908783    14.76023769   15.3841877 ]]\n",
      "2700000 0.471787 [[  -7.87775993   16.59835243  111.65324402  -21.81445312    0.57766199\n",
      "    -3.55251551   72.55381775   14.77437878   15.36094666]]\n",
      "2800000 0.471666 [[  -7.91887522   16.64632797  112.41618347  -22.19592285    0.56559879\n",
      "    -3.62926793   73.3167572    14.78884602   15.33788395]]\n",
      "2900000 0.47156 [[  -7.96399021   16.69110298  113.17912292  -22.43154335    0.5474866\n",
      "    -3.70850754   74.07969666   14.80362892   15.29166412]]\n",
      "3000000 0.471464 [[  -8.0100174    16.73519325  113.94206238  -22.62227821    0.52199614\n",
      "    -3.78718829   74.84263611   14.81817818   15.23346615]]\n",
      "3100000 0.471378 [[  -8.0561409    16.77940559  114.70500183  -22.81301308    0.49219382\n",
      "    -3.8640995    75.60557556   14.83455276   15.17823696]]\n",
      "3200000 0.471311 [[  -8.09324265   16.8187809   115.46794128  -23.00374794    0.46378893\n",
      "    -3.93874669   76.13189697   14.85411358   15.11053085]]\n",
      "3300000 0.471268 [[  -8.11312675   16.84943199  116.23088074  -23.1944828     0.46867436\n",
      "    -4.00684834   76.17869568   14.87447643   15.02519131]]\n",
      "3400000 0.471238 [[  -8.12715816   16.87528229  116.80179596  -23.38521767    0.49455813\n",
      "    -4.0641818    76.21476746   14.88859844   14.96800137]]\n",
      "3500000 0.471227 [[  -8.12715816   16.88959122  116.89696503  -23.57595253    0.52875656\n",
      "    -4.10037947   76.28107452   14.89513874   14.96800137]]\n",
      "3600000 0.471219 [[  -8.12463188   16.90489769  116.9420166   -23.76668739    0.55590367\n",
      "    -4.10853767   76.32092285   14.89598942   14.96800137]]\n",
      "3700000 0.471213 [[  -8.12145233   16.91913986  116.9775238   -23.95742226    0.57826203\n",
      "    -4.11452532   76.35682678   14.89598942   14.96800137]]\n",
      "3800000 0.471207 [[  -8.11826324   16.9332695   117.01127625  -24.14815712    0.59614342\n",
      "    -4.11909914   76.39698792   14.89598942   14.96800137]]\n",
      "3900000 0.471202 [[  -8.11508369   16.9474144   117.04514313  -24.33889198    0.61402482\n",
      "    -4.12369061   76.43731689   14.89598942   14.96800137]]\n",
      "4000000 0.471198 [[  -8.11289215   16.95746994  117.06890869  -24.4738121     0.63064981\n",
      "    -4.12822294   76.46524811   14.89598942   14.96800137]]\n",
      "4100000 0.471198 [[  -8.11289215   16.95805168  117.06950378  -24.48059273    0.64009756\n",
      "    -4.13128853   76.46524811   14.89598942   14.96800137]]\n",
      "4200000 0.471198 [[  -8.11289215   16.95842171  117.06987     -24.48486328    0.64605802\n",
      "    -4.13322353   76.46524811   14.89598942   14.96800137]]\n",
      "4300000 0.471198 [[  -8.11289215   16.95848846  117.06993866  -24.4856205     0.64710766\n",
      "    -4.13356447   76.46524811   14.89598942   14.96800137]]\n",
      "4400000 0.471198 [[  -8.11289215   16.95848846  117.06993866  -24.4856205     0.64710766\n",
      "    -4.13356447   76.46524811   14.89598942   14.96800137]]\n",
      "4500000 0.471198 [[  -8.11289215   16.95848846  117.06993866  -24.4856205     0.64710766\n",
      "    -4.13356447   76.46524811   14.89598942   14.96800137]]\n"
     ]
    },
    {
     "ename": "KeyboardInterrupt",
     "evalue": "",
     "output_type": "error",
     "traceback": [
      "\u001b[0;31m---------------------------------------------------------------------------\u001b[0m",
      "\u001b[0;31mKeyboardInterrupt\u001b[0m                         Traceback (most recent call last)",
      "\u001b[0;32m<ipython-input-9-eca5dbdf8b13>\u001b[0m in \u001b[0;36m<module>\u001b[0;34m()\u001b[0m\n\u001b[1;32m      9\u001b[0m \u001b[0;34m\u001b[0m\u001b[0m\n\u001b[1;32m     10\u001b[0m \u001b[0;32mfor\u001b[0m \u001b[0mstep\u001b[0m \u001b[0;32min\u001b[0m \u001b[0mrange\u001b[0m\u001b[0;34m(\u001b[0m\u001b[0;36m10000000\u001b[0m\u001b[0;34m)\u001b[0m\u001b[0;34m:\u001b[0m\u001b[0;34m\u001b[0m\u001b[0m\n\u001b[0;32m---> 11\u001b[0;31m     \u001b[0msess\u001b[0m\u001b[0;34m.\u001b[0m\u001b[0mrun\u001b[0m\u001b[0;34m(\u001b[0m\u001b[0mtrain\u001b[0m\u001b[0;34m,\u001b[0m \u001b[0mfeed_dict\u001b[0m\u001b[0;34m=\u001b[0m\u001b[0;34m{\u001b[0m\u001b[0mX\u001b[0m\u001b[0;34m:\u001b[0m \u001b[0mx_data\u001b[0m\u001b[0;34m,\u001b[0m \u001b[0mY\u001b[0m\u001b[0;34m:\u001b[0m\u001b[0my_data\u001b[0m\u001b[0;34m}\u001b[0m\u001b[0;34m)\u001b[0m\u001b[0;34m\u001b[0m\u001b[0m\n\u001b[0m\u001b[1;32m     12\u001b[0m     \u001b[0;32mif\u001b[0m \u001b[0mstep\u001b[0m \u001b[0;34m%\u001b[0m \u001b[0;36m100000\u001b[0m \u001b[0;34m==\u001b[0m \u001b[0;36m0\u001b[0m\u001b[0;34m:\u001b[0m\u001b[0;34m\u001b[0m\u001b[0m\n\u001b[1;32m     13\u001b[0m         \u001b[0mprint\u001b[0m \u001b[0;34m(\u001b[0m\u001b[0mstep\u001b[0m\u001b[0;34m,\u001b[0m \u001b[0msess\u001b[0m\u001b[0;34m.\u001b[0m\u001b[0mrun\u001b[0m\u001b[0;34m(\u001b[0m\u001b[0mcost\u001b[0m\u001b[0;34m,\u001b[0m \u001b[0mfeed_dict\u001b[0m\u001b[0;34m=\u001b[0m\u001b[0;34m{\u001b[0m\u001b[0mX\u001b[0m\u001b[0;34m:\u001b[0m \u001b[0mx_data\u001b[0m\u001b[0;34m,\u001b[0m \u001b[0mY\u001b[0m\u001b[0;34m:\u001b[0m\u001b[0my_data\u001b[0m\u001b[0;34m}\u001b[0m\u001b[0;34m)\u001b[0m\u001b[0;34m,\u001b[0m\u001b[0msess\u001b[0m\u001b[0;34m.\u001b[0m\u001b[0mrun\u001b[0m\u001b[0;34m(\u001b[0m\u001b[0mW\u001b[0m\u001b[0;34m)\u001b[0m\u001b[0;34m)\u001b[0m\u001b[0;34m\u001b[0m\u001b[0m\n",
      "\u001b[0;32m/home/jinhongkim/miniconda3/envs/ml_python/lib/python3.4/site-packages/tensorflow/python/client/session.py\u001b[0m in \u001b[0;36mrun\u001b[0;34m(self, fetches, feed_dict, options, run_metadata)\u001b[0m\n\u001b[1;32m    370\u001b[0m     \u001b[0;32mtry\u001b[0m\u001b[0;34m:\u001b[0m\u001b[0;34m\u001b[0m\u001b[0m\n\u001b[1;32m    371\u001b[0m       result = self._run(None, fetches, feed_dict, options_ptr,\n\u001b[0;32m--> 372\u001b[0;31m                          run_metadata_ptr)\n\u001b[0m\u001b[1;32m    373\u001b[0m       \u001b[0;32mif\u001b[0m \u001b[0mrun_metadata\u001b[0m\u001b[0;34m:\u001b[0m\u001b[0;34m\u001b[0m\u001b[0m\n\u001b[1;32m    374\u001b[0m         \u001b[0mproto_data\u001b[0m \u001b[0;34m=\u001b[0m \u001b[0mtf_session\u001b[0m\u001b[0;34m.\u001b[0m\u001b[0mTF_GetBuffer\u001b[0m\u001b[0;34m(\u001b[0m\u001b[0mrun_metadata_ptr\u001b[0m\u001b[0;34m)\u001b[0m\u001b[0;34m\u001b[0m\u001b[0m\n",
      "\u001b[0;32m/home/jinhongkim/miniconda3/envs/ml_python/lib/python3.4/site-packages/tensorflow/python/client/session.py\u001b[0m in \u001b[0;36m_run\u001b[0;34m(self, handle, fetches, feed_dict, options, run_metadata)\u001b[0m\n\u001b[1;32m    634\u001b[0m     \u001b[0;32mtry\u001b[0m\u001b[0;34m:\u001b[0m\u001b[0;34m\u001b[0m\u001b[0m\n\u001b[1;32m    635\u001b[0m       results = self._do_run(handle, target_list, unique_fetches,\n\u001b[0;32m--> 636\u001b[0;31m                              feed_dict_string, options, run_metadata)\n\u001b[0m\u001b[1;32m    637\u001b[0m     \u001b[0;32mfinally\u001b[0m\u001b[0;34m:\u001b[0m\u001b[0;34m\u001b[0m\u001b[0m\n\u001b[1;32m    638\u001b[0m       \u001b[0;31m# The movers are no longer used. Delete them.\u001b[0m\u001b[0;34m\u001b[0m\u001b[0;34m\u001b[0m\u001b[0m\n",
      "\u001b[0;32m/home/jinhongkim/miniconda3/envs/ml_python/lib/python3.4/site-packages/tensorflow/python/client/session.py\u001b[0m in \u001b[0;36m_do_run\u001b[0;34m(self, handle, target_list, fetch_list, feed_dict, options, run_metadata)\u001b[0m\n\u001b[1;32m    706\u001b[0m     \u001b[0;32mif\u001b[0m \u001b[0mhandle\u001b[0m \u001b[0;32mis\u001b[0m \u001b[0;32mNone\u001b[0m\u001b[0;34m:\u001b[0m\u001b[0;34m\u001b[0m\u001b[0m\n\u001b[1;32m    707\u001b[0m       return self._do_call(_run_fn, self._session, feed_dict, fetch_list,\n\u001b[0;32m--> 708\u001b[0;31m                            target_list, options, run_metadata)\n\u001b[0m\u001b[1;32m    709\u001b[0m     \u001b[0;32melse\u001b[0m\u001b[0;34m:\u001b[0m\u001b[0;34m\u001b[0m\u001b[0m\n\u001b[1;32m    710\u001b[0m       return self._do_call(_prun_fn, self._session, handle, feed_dict,\n",
      "\u001b[0;32m/home/jinhongkim/miniconda3/envs/ml_python/lib/python3.4/site-packages/tensorflow/python/client/session.py\u001b[0m in \u001b[0;36m_do_call\u001b[0;34m(self, fn, *args)\u001b[0m\n\u001b[1;32m    713\u001b[0m   \u001b[0;32mdef\u001b[0m \u001b[0m_do_call\u001b[0m\u001b[0;34m(\u001b[0m\u001b[0mself\u001b[0m\u001b[0;34m,\u001b[0m \u001b[0mfn\u001b[0m\u001b[0;34m,\u001b[0m \u001b[0;34m*\u001b[0m\u001b[0margs\u001b[0m\u001b[0;34m)\u001b[0m\u001b[0;34m:\u001b[0m\u001b[0;34m\u001b[0m\u001b[0m\n\u001b[1;32m    714\u001b[0m     \u001b[0;32mtry\u001b[0m\u001b[0;34m:\u001b[0m\u001b[0;34m\u001b[0m\u001b[0m\n\u001b[0;32m--> 715\u001b[0;31m       \u001b[0;32mreturn\u001b[0m \u001b[0mfn\u001b[0m\u001b[0;34m(\u001b[0m\u001b[0;34m*\u001b[0m\u001b[0margs\u001b[0m\u001b[0;34m)\u001b[0m\u001b[0;34m\u001b[0m\u001b[0m\n\u001b[0m\u001b[1;32m    716\u001b[0m     \u001b[0;32mexcept\u001b[0m \u001b[0merrors\u001b[0m\u001b[0;34m.\u001b[0m\u001b[0mOpError\u001b[0m \u001b[0;32mas\u001b[0m \u001b[0me\u001b[0m\u001b[0;34m:\u001b[0m\u001b[0;34m\u001b[0m\u001b[0m\n\u001b[1;32m    717\u001b[0m       \u001b[0mmessage\u001b[0m \u001b[0;34m=\u001b[0m \u001b[0mcompat\u001b[0m\u001b[0;34m.\u001b[0m\u001b[0mas_text\u001b[0m\u001b[0;34m(\u001b[0m\u001b[0me\u001b[0m\u001b[0;34m.\u001b[0m\u001b[0mmessage\u001b[0m\u001b[0;34m)\u001b[0m\u001b[0;34m\u001b[0m\u001b[0m\n",
      "\u001b[0;32m/home/jinhongkim/miniconda3/envs/ml_python/lib/python3.4/site-packages/tensorflow/python/client/session.py\u001b[0m in \u001b[0;36m_run_fn\u001b[0;34m(session, feed_dict, fetch_list, target_list, options, run_metadata)\u001b[0m\n\u001b[1;32m    695\u001b[0m         return tf_session.TF_Run(session, options,\n\u001b[1;32m    696\u001b[0m                                  \u001b[0mfeed_dict\u001b[0m\u001b[0;34m,\u001b[0m \u001b[0mfetch_list\u001b[0m\u001b[0;34m,\u001b[0m \u001b[0mtarget_list\u001b[0m\u001b[0;34m,\u001b[0m\u001b[0;34m\u001b[0m\u001b[0m\n\u001b[0;32m--> 697\u001b[0;31m                                  status, run_metadata)\n\u001b[0m\u001b[1;32m    698\u001b[0m \u001b[0;34m\u001b[0m\u001b[0m\n\u001b[1;32m    699\u001b[0m     \u001b[0;32mdef\u001b[0m \u001b[0m_prun_fn\u001b[0m\u001b[0;34m(\u001b[0m\u001b[0msession\u001b[0m\u001b[0;34m,\u001b[0m \u001b[0mhandle\u001b[0m\u001b[0;34m,\u001b[0m \u001b[0mfeed_dict\u001b[0m\u001b[0;34m,\u001b[0m \u001b[0mfetch_list\u001b[0m\u001b[0;34m)\u001b[0m\u001b[0;34m:\u001b[0m\u001b[0;34m\u001b[0m\u001b[0m\n",
      "\u001b[0;31mKeyboardInterrupt\u001b[0m: "
     ]
    }
   ],
   "source": [
    "a = tf.Variable(0.1)\n",
    "optimizer = tf.train.GradientDescentOptimizer(a)\n",
    "train = optimizer.minimize(cost)\n",
    "\n",
    "init = tf.initialize_all_variables()\n",
    "\n",
    "sess = tf.Session()\n",
    "sess.run(init)\n",
    "\n",
    "for step in range(10000000):\n",
    "    sess.run(train, feed_dict={X: x_data, Y:y_data})\n",
    "    if step % 100000 == 0:\n",
    "        print (step, sess.run(cost, feed_dict={X: x_data, Y:y_data}),sess.run(W))\n",
    "        "
   ]
  },
  {
   "cell_type": "code",
   "execution_count": 10,
   "metadata": {
    "collapsed": true
   },
   "outputs": [],
   "source": [
    "w_list=sess.run(W)\n",
    "def sigmoid(z):\n",
    "    return 1 / (1 + np.exp(-z))"
   ]
  },
  {
   "cell_type": "code",
   "execution_count": 11,
   "metadata": {
    "collapsed": false
   },
   "outputs": [
    {
     "data": {
      "text/plain": [
       "array([[ 0.9146359 ],\n",
       "       [-2.87844801],\n",
       "       [ 1.3072145 ],\n",
       "       [-3.04791832],\n",
       "       [ 2.12373447]], dtype=float32)"
      ]
     },
     "execution_count": 11,
     "metadata": {},
     "output_type": "execute_result"
    }
   ],
   "source": [
    "x_data=np.transpose(x_data)\n",
    "w_list=w_list.T\n",
    "x_data.dot(w_list)[:5]\n"
   ]
  },
  {
   "cell_type": "code",
   "execution_count": 12,
   "metadata": {
    "collapsed": false
   },
   "outputs": [
    {
     "data": {
      "text/plain": [
       "array([ 0.78385417])"
      ]
     },
     "execution_count": 12,
     "metadata": {},
     "output_type": "execute_result"
    }
   ],
   "source": [
    "y_data=y_data.reshape(len(y_data),1)\n",
    "sum((sigmoid(x_data.dot(w_list))>0.5) ==y_data)/y_data.shape[0]"
   ]
  }
 ],
 "metadata": {
  "kernelspec": {
   "display_name": "Python 3",
   "language": "python",
   "name": "python3"
  }
 },
 "nbformat": 4,
 "nbformat_minor": 0
}
