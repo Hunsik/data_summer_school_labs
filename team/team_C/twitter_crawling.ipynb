{
 "cells": [
  {
   "cell_type": "code",
   "execution_count": 23,
   "metadata": {
    "collapsed": true
   },
   "outputs": [],
   "source": [
    "from twython import Twython\n",
    "from collections import Counter\n",
    "import re"
   ]
  },
  {
   "cell_type": "code",
   "execution_count": 27,
   "metadata": {
    "collapsed": false
   },
   "outputs": [],
   "source": [
    "CONSUMER_KEY =\"yQDQPSOCEuJxLBkHAI18m9bQe\" \n",
    "CONSUMER_SECRET = \"BZT763KaLxPUyd0UW8PKs7M8JRvt3RUaCNvhBwwzzPoey7zmGz\"\n",
    "ACCESS_TOKEN=\"127161897-o1gC519LMaVy5GCwhdYbmK8GX8ZSSx7Sxsrd0CYl\"\n",
    "ACCESS_TOKEN_SECRET=\"oFYNdTcBQVty0jsbC437UuEocABnUmenm6rW3WmCYcGf2\"\n",
    "twitter = Twython(CONSUMER_KEY, CONSUMER_SECRET)\n",
    "\n",
    "text = \"\"\n",
    "for number, status in enumerate(twitter.search(q='\"data science\"')[\"statuses\"]):\n",
    "    \n",
    "    user = status[\"user\"][\"screen_name\"].encode('utf-8')\n",
    "    text = status[\"text\"].encode('utf-8')\n",
    "    if number == 0:\n",
    "        break\n",
    "    #print(user, \":\", text)\n",
    "#     f = open(\"%d.txt\" % number , 'w')\n",
    "#     f.write(text)\n",
    "#     f.close()\n",
    "    \n"
   ]
  },
  {
   "cell_type": "code",
   "execution_count": 28,
   "metadata": {
    "collapsed": false
   },
   "outputs": [
    {
     "data": {
      "text/plain": [
       "'Senior Data Scientist Think Big @teradata Denmark Copenhagen DNK https://t.co/io57wfhrj3 #EME #Linux #Sales'"
      ]
     },
     "execution_count": 28,
     "metadata": {},
     "output_type": "execute_result"
    }
   ],
   "source": [
    "text.decode()"
   ]
  },
  {
   "cell_type": "code",
   "execution_count": 29,
   "metadata": {
    "collapsed": false
   },
   "outputs": [
    {
     "data": {
      "text/plain": [
       "'Senior Data Scientist Think BigDenmark Copenhagen DNK  EME Linux Sales'"
      ]
     },
     "execution_count": 29,
     "metadata": {},
     "output_type": "execute_result"
    }
   ],
   "source": [
    "p = re.compile('(http[s]?://(?:[a-zA-Z]|[0-9]|[$-_@.&+]|[!*\\(\\),]|(?:%[0-9a-fA-F][0-9a-fA-F]))+)|(by)?\\s@\\w+.|RT|&amp;|\\n|#|')\n",
    "\n",
    "text_1 = p.sub(\"\", text.decode())\n",
    "\n",
    "text_1.strip()"
   ]
  },
  {
   "cell_type": "code",
   "execution_count": 6,
   "metadata": {
    "collapsed": true
   },
   "outputs": [],
   "source": [
    "from twython import TwythonStreamer\n",
    "\n",
    "# appending data to a global variable is pretty poor form\n",
    "# but it makes the example much simpler\n",
    "tweets = [] \n",
    "\n",
    "class MyStreamer(TwythonStreamer):\n",
    "    \"\"\"our own subclass of TwythonStreamer that specifies\n",
    "    how to interact with the stream\"\"\"\n",
    "\n",
    "    def on_success(self, data):\n",
    "        \"\"\"what do we do when twitter sends us data?\n",
    "        here data will be a Python object representing a tweet\"\"\"\n",
    "\n",
    "        # only want to collect English-language tweets\n",
    "        if data['lang'] == 'en':\n",
    "            tweets.append(data)\n",
    "            print(\"received tweet #\", len(tweets))\n",
    "\n",
    "        # stop when we've collected enough\n",
    "        if len(tweets) >= 10:\n",
    "            self.disconnect()\n",
    "\n",
    "    def on_error(self, status_code, data):\n",
    "        print(status_code, data)\n",
    "        self.disconnect()\n",
    "        "
   ]
  },
  {
   "cell_type": "code",
   "execution_count": null,
   "metadata": {
    "collapsed": true
   },
   "outputs": [],
   "source": []
  },
  {
   "cell_type": "code",
   "execution_count": 7,
   "metadata": {
    "collapsed": false
   },
   "outputs": [
    {
     "name": "stdout",
     "output_type": "stream",
     "text": [
      "received tweet # 1\n",
      "received tweet # 2\n",
      "received tweet # 3\n",
      "received tweet # 4\n",
      "received tweet # 5\n",
      "received tweet # 6\n",
      "received tweet # 7\n",
      "received tweet # 8\n",
      "received tweet # 9\n",
      "received tweet # 10\n"
     ]
    }
   ],
   "source": [
    "#def call_twitter_streaming_api():\n",
    "stream = MyStreamer(CONSUMER_KEY, CONSUMER_SECRET, ACCESS_TOKEN, ACCESS_TOKEN_SECRET)\n",
    "\n",
    "    # starts consuming public statuses that contain the keyword 'data'\n",
    "    \n",
    "stream.statuses.filter(track='data')\n",
    "#stream.filter(track=['programming'])\n",
    "stream.statuses.sample()"
   ]
  },
  {
   "cell_type": "code",
   "execution_count": 8,
   "metadata": {
    "collapsed": false
   },
   "outputs": [
    {
     "name": "stdout",
     "output_type": "stream",
     "text": [
      "[('tech', 1), ('elevateaapi', 1), ('question', 1), ('infonomics', 1), ('howto', 1)]\n"
     ]
    }
   ],
   "source": [
    "top_hashtags = Counter(hashtag['text'].lower()\n",
    "                      for tweet in tweets\n",
    "                      for hashtag in tweet[\"entities\"][\"hashtags\"])\n",
    "print(top_hashtags.most_common(5))"
   ]
  },
  {
   "cell_type": "code",
   "execution_count": null,
   "metadata": {
    "collapsed": true
   },
   "outputs": [],
   "source": []
  },
  {
   "cell_type": "code",
   "execution_count": null,
   "metadata": {
    "collapsed": true
   },
   "outputs": [],
   "source": []
  }
 ],
 "metadata": {
  "kernelspec": {
   "display_name": "Python 3",
   "language": "python",
   "name": "python3"
  },
  "language_info": {
   "codemirror_mode": {
    "name": "ipython",
    "version": 3
   },
   "file_extension": ".py",
   "mimetype": "text/x-python",
   "name": "python",
   "nbconvert_exporter": "python",
   "pygments_lexer": "ipython3",
   "version": "3.4.5"
  }
 },
 "nbformat": 4,
 "nbformat_minor": 0
}
