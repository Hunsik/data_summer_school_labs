{
 "cells": [
  {
   "cell_type": "code",
   "execution_count": 20,
   "metadata": {
    "collapsed": true
   },
   "outputs": [],
   "source": [
    "from twython import Twython\n",
    "from collections import Counter\n",
    "import re"
   ]
  },
  {
   "cell_type": "code",
   "execution_count": 21,
   "metadata": {
    "collapsed": false
   },
   "outputs": [
    {
     "name": "stdout",
     "output_type": "stream",
     "text": [
      "machinelearnbot: Data Science From Scratch: First Principles With Python here  https://t.co/meBRwI8trR #datascience machinelearnbot\n",
      "Regular: machinelearnbot: Data Science From Scratch: First Principles With Python here   datascience machinelearnbot\n",
      "\n",
      "Data Science Retail software Take Retail software To The Next Level - #Retailsoftware Things You Need To Know https://t.co/KUJ2Kdwb3r\n",
      "Regular: Data Science Retail software Take Retail software To The Next Level - Retailsoftware Things You Need To Know\n",
      "\n",
      "RT @EricDBrown: 'Analytics Is A Leadership Problem, Not An IT Problem, And Not A Data Science Problem'  https://t.co/EaxOKF9lP2 https://t.c…\n",
      "Regular: 'Analytics Is A Leadership Problem, Not An IT Problem, And Not A Data Science Problem'\n",
      "\n",
      "RT @ProgrammingLan: #ruby #code #JavaScript Discover the greatest benefits of #Python and R https://t.co/MYHfmB6xMA\n",
      "Regular: ruby code JavaScript Discover the greatest benefits of Python and R\n",
      "\n",
      "Data Science From Scratch: First Principles With Python here  https://t.co/tMX2MLtZQD #datascience machinelearnbot\n",
      "Regular: Data Science From Scratch: First Principles With Python here   datascience machinelearnbot\n",
      "\n",
      "Join me at #MSDataScience for the Microsoft Data Science Summit September 26 – 27, in Atlanta, GA. Register now at https://t.co/rFPynLcwyp\n",
      "Regular: Join me at MSDataScience for the Microsoft Data Science Summit September 26 – 27, in Atlanta, GA. Register now at\n",
      "\n",
      "RT @techjunkiejh: Data Storytelling: The Essential #DataScience Skill Everyone Needs https://t.co/mg6529gcZb #bigdata https://t.co/XothQTqC…\n",
      "Regular: Data Storytelling: The Essential DataScience Skill Everyone Needs  bigdata\n",
      "\n",
      "Articles on data science best practices from the internet https://t.co/q1wyzgSEvg  @ucsdexttech @billkimler @healthy_wrld #datascience\n",
      "Regular: Articles on data science best practices from the internet @billkimlerdatascience\n",
      "\n",
      "RT @HRCurator: RT @valentina_feren Thx4RT fr @HRCurator  Data Science, Data Insight, Data Wisdom #HRAnalytics #PeopleAnalytics #HR https://…\n",
      "Regular: Thx4 fr Data Science, Data Insight, Data Wisdom HRAnalytics PeopleAnalytics HR\n",
      "\n",
      "https://t.co/fIa6pvlKYR #DataScience #Statisticallearningtheory #GISP #RationalDOORS #BehavioralEconomics #YouKnowY… https://t.co/DYmHigV1v5\n",
      "Regular: DataScience Statisticallearningtheory GISP RationalDOORS BehavioralEconomics YouKnowY…\n",
      "\n"
     ]
    }
   ],
   "source": [
    "CONSUMER_KEY =\"yQDQPSOCEuJxLBkHAI18m9bQe\" \n",
    "CONSUMER_SECRET = \"BZT763KaLxPUyd0UW8PKs7M8JRvt3RUaCNvhBwwzzPoey7zmGz\"\n",
    "ACCESS_TOKEN=\"127161897-o1gC519LMaVy5GCwhdYbmK8GX8ZSSx7Sxsrd0CYl\"\n",
    "ACCESS_TOKEN_SECRET=\"oFYNdTcBQVty0jsbC437UuEocABnUmenm6rW3WmCYcGf2\"\n",
    "twitter = Twython(CONSUMER_KEY, CONSUMER_SECRET)\n",
    "\n",
    "twitter_list = []\n",
    "count = 0\n",
    "\n",
    "for status in twitter.search(q='\"data science\"')[\"statuses\"]:\n",
    "    \n",
    "    user = status[\"user\"][\"screen_name\"].encode('utf-8')\n",
    "    text = status[\"text\"].encode('utf-8')\n",
    "    \n",
    "    print(text.decode())\n",
    "    \n",
    "    p = re.compile('(http[s]?(://(?:[a-zA-Z]|[0-9]|[$-_@.&+…]|[!*\\(\\),]|(?:%[0-9a-fA-F][0-9a-fA-F]))+)?)|(via)?\\s(by)?\\s?@\\w+.|RT|&amp;|\\n|#|')\n",
    "    text_RE = (p.sub(\"\", text.decode())).strip()\n",
    "        \n",
    "    print(\"Regular:\", text_RE.strip())\n",
    "    print(\"\")\n",
    "    \n",
    "    if text_RE not in twitter_list:\n",
    "        \n",
    "        twitter_list.append(text_RE)\n",
    "    \n",
    "        count += 1\n",
    "        \n",
    "        with open(\"%d.txt\" % count , 'w', encoding='UTF-8', newline='') as f:\n",
    "            f.write(text_RE)\n",
    "            f.close()\n",
    "        \n",
    "    #print(\"Regular:\", text_1.strip())\n",
    "    #print(\"\")\n",
    "    \n",
    "    if len(twitter_list) == 10:\n",
    "        break\n",
    "        \n",
    "    #print(user, \":\", text)\n",
    "#     f = open(\"%d.txt\" % number , 'w')\n",
    "#     f.write(text)\n",
    "#     f.close()\n",
    "    \n"
   ]
  },
  {
   "cell_type": "code",
   "execution_count": null,
   "metadata": {
    "collapsed": false
   },
   "outputs": [],
   "source": [
    "text.decode()"
   ]
  },
  {
   "cell_type": "code",
   "execution_count": null,
   "metadata": {
    "collapsed": false
   },
   "outputs": [],
   "source": [
    "p = re.compile('(http[s]?://(?:[a-zA-Z]|[0-9]|[$-_@.&+]|[!*\\(\\),]|(?:%[0-9a-fA-F][0-9a-fA-F]))+)|(by)?\\s?@\\w+.|RT|&amp;|\\n|#|')\n",
    "\n",
    "text_1 = p.sub(\"\", text.decode())\n",
    "\n",
    "text_1.strip()"
   ]
  },
  {
   "cell_type": "code",
   "execution_count": null,
   "metadata": {
    "collapsed": true
   },
   "outputs": [],
   "source": [
    "from twython import TwythonStreamer\n",
    "\n",
    "# appending data to a global variable is pretty poor form\n",
    "# but it makes the example much simpler\n",
    "tweets = [] \n",
    "\n",
    "class MyStreamer(TwythonStreamer):\n",
    "    \"\"\"our own subclass of TwythonStreamer that specifies\n",
    "    how to interact with the stream\"\"\"\n",
    "\n",
    "    def on_success(self, data):\n",
    "        \"\"\"what do we do when twitter sends us data?\n",
    "        here data will be a Python object representing a tweet\"\"\"\n",
    "\n",
    "        # only want to collect English-language tweets\n",
    "        if data['lang'] == 'en':\n",
    "            tweets.append(data)\n",
    "            print(\"received tweet #\", len(tweets))\n",
    "\n",
    "        # stop when we've collected enough\n",
    "        if len(tweets) >= 10:\n",
    "            self.disconnect()\n",
    "\n",
    "    def on_error(self, status_code, data):\n",
    "        print(status_code, data)\n",
    "        self.disconnect()\n",
    "        "
   ]
  },
  {
   "cell_type": "code",
   "execution_count": null,
   "metadata": {
    "collapsed": true
   },
   "outputs": [],
   "source": []
  },
  {
   "cell_type": "code",
   "execution_count": null,
   "metadata": {
    "collapsed": false
   },
   "outputs": [],
   "source": [
    "#def call_twitter_streaming_api():\n",
    "stream = MyStreamer(CONSUMER_KEY, CONSUMER_SECRET, ACCESS_TOKEN, ACCESS_TOKEN_SECRET)\n",
    "\n",
    "    # starts consuming public statuses that contain the keyword 'data'\n",
    "    \n",
    "stream.statuses.filter(track='data')\n",
    "#stream.filter(track=['programming'])\n",
    "stream.statuses.sample()"
   ]
  },
  {
   "cell_type": "code",
   "execution_count": null,
   "metadata": {
    "collapsed": false
   },
   "outputs": [],
   "source": [
    "top_hashtags = Counter(hashtag['text'].lower()\n",
    "                      for tweet in tweets\n",
    "                      for hashtag in tweet[\"entities\"][\"hashtags\"])\n",
    "print(top_hashtags.most_common(5))"
   ]
  },
  {
   "cell_type": "code",
   "execution_count": null,
   "metadata": {
    "collapsed": true
   },
   "outputs": [],
   "source": []
  },
  {
   "cell_type": "code",
   "execution_count": null,
   "metadata": {
    "collapsed": true
   },
   "outputs": [],
   "source": []
  }
 ],
 "metadata": {
  "kernelspec": {
   "display_name": "Python 3",
   "language": "python",
   "name": "python3"
  },
  "language_info": {
   "codemirror_mode": {
    "name": "ipython",
    "version": 3
   },
   "file_extension": ".py",
   "mimetype": "text/x-python",
   "name": "python",
   "nbconvert_exporter": "python",
   "pygments_lexer": "ipython3",
   "version": "3.4.5"
  }
 },
 "nbformat": 4,
 "nbformat_minor": 0
}
