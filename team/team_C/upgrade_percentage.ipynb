{
 "cells": [
  {
   "cell_type": "code",
   "execution_count": 67,
   "metadata": {
    "collapsed": true
   },
   "outputs": [],
   "source": [
    "import pandas as pd\n",
    "import numpy as np\n",
    "from sklearn import datasets\n",
    "from sklearn import preprocessing as p\n",
    "\n",
    "data_source = \"https://archive.ics.uci.edu/ml/machine-learning-databases/nursery/nursery.data\"\n",
    "\n",
    "names =  [\"parents\", \"has_nurs\", \"form\", \"children\" ,\"housing\", \"finance\", \"social\", \"health\", \"class\"]\n",
    "dataframe = pd.read_csv(data_source, names=names)\n",
    "\n",
    "for column in range(len(names)):\n",
    "    dataframe[names[column]] = dataframe[names[column]].astype(\"category\")\n",
    "\n",
    "y_data = dataframe.pop(\"class\")\n",
    "\n",
    "real_x_data = dataframe\n",
    "real_x_data.insert(0, \"bias\", 1)"
   ]
  },
  {
   "cell_type": "code",
   "execution_count": 68,
   "metadata": {
    "collapsed": false
   },
   "outputs": [
    {
     "name": "stdout",
     "output_type": "stream",
     "text": [
      "parents : \n",
      " [[   2 1924 1440  196  758]\n",
      " [   0 1484 1440  132 1264]\n",
      " [   0  858 1440    0 2022]]\n",
      "has_nurs : \n",
      " [[   2 1344  864  130  252]\n",
      " [   0 1344  864  132  252]\n",
      " [   0  904  864   66  758]\n",
      " [   0  464  864    0 1264]\n",
      " [   0  210  864    0 1518]]\n",
      "form : \n",
      " [[   2 1152 1080  118  888]\n",
      " [   0 1092 1080  100  968]\n",
      " [   0 1038 1080   70 1052]\n",
      " [   0  984 1080   40 1136]]\n",
      "children : \n",
      " [[   2 1206 1080  148  804]\n",
      " [   0 1092 1080  100  968]\n",
      " [   0  984 1080   40 1136]\n",
      " [   0  984 1080   40 1136]]\n",
      "housing : \n",
      " [[   2 1618 1440  208 1052]\n",
      " [   0 1396 1440  100 1384]\n",
      " [   0 1252 1440   20 1608]]\n",
      "finance : \n",
      " [[   2 2244 2160  218 1856]\n",
      " [   0 2022 2160  110 2188]]\n",
      "social : \n",
      " [[   1 1515 1440  164 1200]\n",
      " [   1 1515 1440  164 1200]\n",
      " [   0 1236 1440    0 1644]]\n",
      "health : \n",
      " [[   2 2412    0  328 1578]\n",
      " [   0 1854    0    0 2466]\n",
      " [   0    0 4320    0    0]]\n"
     ]
    }
   ],
   "source": [
    "def coefficient(column):\n",
    "    feature = real_x_data[column].unique()\n",
    "    feature_val = real_x_data[column]\n",
    "    y_val = y_data.unique()\n",
    "\n",
    "    count = [[0 for j in range(len(y_val))] for i in range(len(feature))]\n",
    "\n",
    "    for (x,y) in zip(feature_val,y_data):\n",
    "        count[np.where(feature==x)[0][0]][np.where(y_val==y)[0][0]] += 1\n",
    "    \n",
    "    return np.array(count)\n",
    "\n",
    "\n",
    "for i in [\"parents\", \"has_nurs\", \"form\", \"children\" ,\"housing\", \"finance\", \"social\", \"health\"]:\n",
    "    print(i, \": \\n\", coefficient(i))"
   ]
  },
  {
   "cell_type": "code",
   "execution_count": 69,
   "metadata": {
    "collapsed": false
   },
   "outputs": [],
   "source": [
    "##변수내의 catagory를 합친다. \n",
    "\n",
    "change_x_data = dataframe.copy(deep=True)\n",
    "\n",
    "change_x_data[\"has_nurs\"][change_x_data[\"has_nurs\"]=='proper']='less_proper'\n",
    "change_x_data[\"children\"][change_x_data[\"children\"]=='3']='more'\n",
    "change_x_data[\"social\"][change_x_data[\"social\"]=='slightly_prob']='nonprob'"
   ]
  },
  {
   "cell_type": "code",
   "execution_count": 70,
   "metadata": {
    "collapsed": false
   },
   "outputs": [],
   "source": [
    "real_x_data = pd.get_dummies(real_x_data).as_matrix()\n",
    "change_x_data = pd.get_dummies(change_x_data).as_matrix()"
   ]
  },
  {
   "cell_type": "code",
   "execution_count": 71,
   "metadata": {
    "collapsed": false
   },
   "outputs": [
    {
     "name": "stdout",
     "output_type": "stream",
     "text": [
      "real_average :  0.867226080247\n",
      "change_average :  0.927662037037\n"
     ]
    }
   ],
   "source": [
    "from sklearn.cross_validation import KFold,ShuffleSplit\n",
    "from sklearn import linear_model\n",
    "\n",
    "cv  = ShuffleSplit(len(y_data), n_iter=10, test_size=0.4, random_state=0)\n",
    "\n",
    "real_total=0\n",
    "change_total=0\n",
    "\n",
    "for train_index, test_index in cv :\n",
    "    real_x_train, real_x_test = real_x_data[train_index], real_x_data[test_index]\n",
    "    change_x_train, change_x_test = change_x_data[train_index], change_x_data[test_index]\n",
    "    y_train, y_test = y_data[train_index], y_data[test_index]\n",
    "    \n",
    "    logreg = linear_model.LogisticRegression(multi_class='multinomial', fit_intercept=True, solver=\"lbfgs\")\n",
    "\n",
    "    logreg.fit(real_x_train, y_train)\n",
    "    logreg.fit(change_x_train, y_train)\n",
    "\n",
    "    real_total +=(sum(logreg.predict(real_x_test) == y_test.ravel()) / len(y_test))\n",
    "    change_total += (sum(logreg.predict(change_x_test) == y_test.ravel()) / len(y_test))\n",
    "     \n",
    "print(\"real_average : \" , real_total/10)\n",
    "print(\"change_average : \",change_total/10)\n",
    "\n"
   ]
  },
  {
   "cell_type": "code",
   "execution_count": 72,
   "metadata": {
    "collapsed": true
   },
   "outputs": [],
   "source": [
    "from sklearn import tree\n",
    "\n",
    "clf = tree.DecisionTreeClassifier()\n",
    "clf = clf.fit(change_x_train, y_train)"
   ]
  },
  {
   "cell_type": "code",
   "execution_count": 66,
   "metadata": {
    "collapsed": false,
    "scrolled": true
   },
   "outputs": [
    {
     "name": "stdout",
     "output_type": "stream",
     "text": [
      "DecisionTree :  0.996720679012\n"
     ]
    }
   ],
   "source": [
    "print(\"DecisionTree : \" ,sum(clf.predict(change_x_test) == y_test.ravel()) / len(y_test))"
   ]
  }
 ],
 "metadata": {
  "kernelspec": {
   "display_name": "Python 3",
   "language": "python",
   "name": "python3"
  },
  "language_info": {
   "codemirror_mode": {
    "name": "ipython",
    "version": 3
   },
   "file_extension": ".py",
   "mimetype": "text/x-python",
   "name": "python",
   "nbconvert_exporter": "python",
   "pygments_lexer": "ipython3",
   "version": "3.4.5"
  }
 },
 "nbformat": 4,
 "nbformat_minor": 0
}
